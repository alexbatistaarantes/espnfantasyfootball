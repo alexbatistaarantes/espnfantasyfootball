{
 "cells": [
  {
   "cell_type": "code",
   "execution_count": null,
   "id": "b58461f7-7265-4fb2-b898-ef823c9ca28b",
   "metadata": {},
   "outputs": [],
   "source": [
    "# Dependencies\n",
    "import requests\n",
    "import pandas as pd\n",
    "import numpy as np\n",
    "from config import league_id, espn_s2, swid\n",
    "import ESPNFFPlayerData as ff\n",
    "\n",
    "import matplotlib.pyplot as plt"
   ]
  },
  {
   "cell_type": "code",
   "execution_count": null,
   "id": "efb66fa4-e637-4610-9aa1-b89799daa910",
   "metadata": {},
   "outputs": [],
   "source": [
    "# Define URL parameters\n",
    "league_id = league_id\n",
    "\n",
    "# Define cookie parameters\n",
    "espn_s2 = espn_s2\n",
    "swid = swid\n",
    "\n",
    "# Define the week and year to pull\n",
    "year = 2022\n",
    "week = 2\n",
    "\n",
    "# Define how many teams are in the league and the roster size\n",
    "league_size = 10\n",
    "roster_size = 16"
   ]
  },
  {
   "cell_type": "code",
   "execution_count": null,
   "id": "9eca3cb0-8dec-401a-b1b7-96ffcc5b79dc",
   "metadata": {},
   "outputs": [],
   "source": [
    "# Load the league using load_league\n",
    "# Parameters are league ID, year, week, swid, espn_s2\n",
    "# Output is a JSON\n",
    "league = ff.load_league(league_id, year, week, swid, espn_s2)"
   ]
  },
  {
   "cell_type": "code",
   "execution_count": null,
   "id": "3d170ad3",
   "metadata": {},
   "outputs": [],
   "source": [
    "# Define the URL with our parameters\n",
    "url = f\"https://fantasy.espn.com/apis/v3/games/ffl/seasons/{year}/segments/0/leagues/{league_id}\"\n",
    "\n",
    "team_response = requests.get(url,\n",
    "                             params={\"leagueId\": league_id,\n",
    "                                     \"seasonId\": year,\n",
    "                                     \"matchupPeriodId\": week,\n",
    "                                     \"view\": \"mTeam\"},\n",
    "                             cookies={\"swid\": swid,\n",
    "                                      \"espn_s2\": espn_s2})\n",
    "\n",
    "# Transform the response into a JSON\n",
    "team_json = team_response.json()\n",
    "\n",
    "team_json\n"
   ]
  },
  {
   "cell_type": "code",
   "execution_count": null,
   "id": "ef5137de-da23-40f7-984a-35a856158865",
   "metadata": {},
   "outputs": [],
   "source": [
    "# Load team names using load_player_data\n",
    "# Parameter are the league loaded previously, week, league_size, roster_size\n",
    "# Output is a DataFrame\n",
    "df = ff.load_player_data(league, week, league_size, roster_size)\n",
    "df[df['PlayerFantasyTeam'] == 3]\n"
   ]
  },
  {
   "cell_type": "code",
   "execution_count": null,
   "id": "ce45ff67-44e1-4a2a-ba50-6daeded79eb3",
   "metadata": {},
   "outputs": [],
   "source": [
    "# Load the league using load_team_data\n",
    "# Parameters are the previously loaded DataFrame, league ID, year, week, swid, espn_s2\n",
    "# Output is a DataFrame\n",
    "df = ff.load_team_names(df, league_id, year, week, swid, espn_s2)"
   ]
  },
  {
   "cell_type": "code",
   "execution_count": null,
   "id": "19fb6326-1fd8-4abc-96a5-8ca290a50d85",
   "metadata": {},
   "outputs": [],
   "source": [
    "# Analysis and visualizations\n",
    "df[df['PlayerFantasyTeam'] == 3]"
   ]
  },
  {
   "cell_type": "code",
   "execution_count": null,
   "id": "999f7511-d9cc-4ea7-b2e2-c78952055526",
   "metadata": {},
   "outputs": [],
   "source": [
    "bench_df = df[df['PlayerRosterSlot'] == 'Bench']\n",
    "#bench_df = df.groupby(df['PlayerFantasyTeam']).sum()"
   ]
  },
  {
   "cell_type": "code",
   "execution_count": null,
   "id": "f5c4c4dc-cb7f-4b35-b0d5-f99f86e0612e",
   "metadata": {},
   "outputs": [],
   "source": [
    "bench_df"
   ]
  },
  {
   "cell_type": "code",
   "execution_count": null,
   "id": "199bcd62-52dd-4c0a-afb0-a672ca1dd299",
   "metadata": {},
   "outputs": [],
   "source": [
    "plt.bar(bench_df.index, bench_df['PlayerScoreActual'])"
   ]
  },
  {
   "cell_type": "code",
   "execution_count": null,
   "id": "4de3d1d2-2db6-4d0d-b2e2-eb6b3af1f58b",
   "metadata": {},
   "outputs": [],
   "source": [
    "import requests\n",
    "import pandas as pd\n",
    "import numpy as np\n",
    "\n",
    "\n",
    "# Define the URL with our parameters\n",
    "url = f\"https://fantasy.espn.com/apis/v3/games/ffl/seasons/{year}/segments/0/leagues/{league_id}\"\n",
    "\n",
    "# Get a response from the ESPN API using the Team view\n",
    "team_response = requests.get(url, \n",
    "                            params={\"leagueId\" : league_id,\n",
    "                                    \"seasonId\" : year,\n",
    "                                    \"matchupPeriodId\" : week,\n",
    "                                    \"view\": \"mTeam\"},\n",
    "                            cookies={\"swid\" : swid,\n",
    "                                    \"espn_s2\" : espn_s2})\n",
    "\n",
    "# Transform the response into a JSON\n",
    "team_json = team_response.json()\n",
    "team_json"
   ]
  },
  {
   "cell_type": "code",
   "execution_count": null,
   "id": "77111674",
   "metadata": {},
   "outputs": [],
   "source": []
  }
 ],
 "metadata": {
  "kernelspec": {
   "display_name": "Python 3.9.7 ('base')",
   "language": "python",
   "name": "python3"
  },
  "language_info": {
   "codemirror_mode": {
    "name": "ipython",
    "version": 3
   },
   "file_extension": ".py",
   "mimetype": "text/x-python",
   "name": "python",
   "nbconvert_exporter": "python",
   "pygments_lexer": "ipython3",
   "version": "3.9.7"
  },
  "vscode": {
   "interpreter": {
    "hash": "838e51ec53c769d56e1cc4cb363682f0a508bbcae9a91bec1df886143b87e50b"
   }
  }
 },
 "nbformat": 4,
 "nbformat_minor": 5
}
