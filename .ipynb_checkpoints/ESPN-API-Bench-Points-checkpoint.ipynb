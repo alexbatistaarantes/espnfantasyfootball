{
 "cells": [
  {
   "cell_type": "code",
   "execution_count": 1,
   "id": "b58461f7-7265-4fb2-b898-ef823c9ca28b",
   "metadata": {},
   "outputs": [],
   "source": [
    "# Dependencies\n",
    "import requests\n",
    "import pandas as pd\n",
    "import numpy as np\n",
    "from config import league_id, espn_s2, swid\n",
    "import ESPNFFPlayerData as ff\n",
    "\n",
    "import matplotlib.pyplot as plt"
   ]
  },
  {
   "cell_type": "code",
   "execution_count": 2,
   "id": "efb66fa4-e637-4610-9aa1-b89799daa910",
   "metadata": {},
   "outputs": [],
   "source": [
    "# Define URL parameters\n",
    "league_id = league_id\n",
    "year = 2022\n",
    "week = 2"
   ]
  },
  {
   "cell_type": "code",
   "execution_count": 3,
   "id": "0f799472-d7b5-4476-937d-cc71ba2991c2",
   "metadata": {},
   "outputs": [],
   "source": [
    "# Define cookie parameters\n",
    "espn_s2 = espn_s2\n",
    "swid = swid"
   ]
  },
  {
   "cell_type": "code",
   "execution_count": 4,
   "id": "9eca3cb0-8dec-401a-b1b7-96ffcc5b79dc",
   "metadata": {},
   "outputs": [],
   "source": [
    "# Define how many teams are in the league and the roster size\n",
    "league_size = 10\n",
    "roster_size = 16"
   ]
  },
  {
   "cell_type": "code",
   "execution_count": null,
   "id": "680393aa-2fb2-44fb-8b41-7fe80a9ef4d4",
   "metadata": {},
   "outputs": [],
   "source": []
  },
  {
   "cell_type": "code",
   "execution_count": null,
   "id": "ef5137de-da23-40f7-984a-35a856158865",
   "metadata": {},
   "outputs": [],
   "source": [
    "league = ff.load_league(league_id, year, week, swid, espn_s2)"
   ]
  },
  {
   "cell_type": "code",
   "execution_count": null,
   "id": "f06fdf54-8957-407c-8bbc-8b1eed5c3abf",
   "metadata": {},
   "outputs": [],
   "source": [
    "df = ff.load_player_data(league, week, league_size, roster_size)"
   ]
  },
  {
   "cell_type": "code",
   "execution_count": 9,
   "id": "48f7d72b-ce79-4bf8-bfcd-0c95a882a073",
   "metadata": {},
   "outputs": [],
   "source": [
    "df = ff.load_team_names(df, league_id, year, week, swid, espn_s2)"
   ]
  },
  {
   "cell_type": "code",
   "execution_count": 15,
   "id": "cb97c6e4-b0de-4c51-9e15-252e2cf0835a",
   "metadata": {},
   "outputs": [],
   "source": [
    "for i in range(1, 3):\n",
    "    league = ff.load_league(league_id, year, i, swid, espn_s2)\n",
    "    df = ff.load_player_data(league, i, league_size, roster_size)\n",
    "    #df = ff.load_team_names(df, league_id, year, i, swid, espn_s2)"
   ]
  },
  {
   "cell_type": "code",
   "execution_count": 16,
   "id": "f343b737-1639-4d44-9e31-d3ab8c398cce",
   "metadata": {},
   "outputs": [
    {
     "data": {
      "text/plain": [
       "2    160\n",
       "Name: Week, dtype: int64"
      ]
     },
     "execution_count": 16,
     "metadata": {},
     "output_type": "execute_result"
    }
   ],
   "source": [
    "df['Week'].value_counts()"
   ]
  },
  {
   "cell_type": "code",
   "execution_count": null,
   "id": "19fb6326-1fd8-4abc-96a5-8ca290a50d85",
   "metadata": {},
   "outputs": [],
   "source": []
  }
 ],
 "metadata": {
  "kernelspec": {
   "display_name": "Python 3 (ipykernel)",
   "language": "python",
   "name": "python3"
  },
  "language_info": {
   "codemirror_mode": {
    "name": "ipython",
    "version": 3
   },
   "file_extension": ".py",
   "mimetype": "text/x-python",
   "name": "python",
   "nbconvert_exporter": "python",
   "pygments_lexer": "ipython3",
   "version": "3.9.7"
  }
 },
 "nbformat": 4,
 "nbformat_minor": 5
}
