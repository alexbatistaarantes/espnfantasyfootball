{
 "cells": [
  {
   "cell_type": "code",
   "execution_count": 40,
   "id": "b58461f7-7265-4fb2-b898-ef823c9ca28b",
   "metadata": {},
   "outputs": [],
   "source": [
    "# Dependencies\n",
    "import requests\n",
    "import pandas as pd\n",
    "import numpy as np\n",
    "from config  import league_id, espn_s2, swid\n",
    "\n",
    "import matplotlib.pyplot as plt"
   ]
  },
  {
   "cell_type": "code",
   "execution_count": 41,
   "id": "b868379e-6249-4670-9795-d5293b74d196",
   "metadata": {},
   "outputs": [],
   "source": [
    "# Define URL parameters\n",
    "league_id = league_id\n",
    "year = 2022\n",
    "week = 2"
   ]
  },
  {
   "cell_type": "code",
   "execution_count": 42,
   "id": "b4c77502-5c89-4c50-9bc2-6bf51c7a6e7a",
   "metadata": {},
   "outputs": [],
   "source": [
    "# Define cookie parameters\n",
    "espn_s2 = espn_s2\n",
    "swid = swid"
   ]
  },
  {
   "cell_type": "code",
   "execution_count": 43,
   "id": "2778c36f-7e0b-4a95-871c-4df635a35448",
   "metadata": {},
   "outputs": [],
   "source": [
    "# Define how many teams are in the league and the roster size\n",
    "league_size = 10\n",
    "roster_size = 16"
   ]
  },
  {
   "cell_type": "code",
   "execution_count": 44,
   "id": "1dd57052-88c2-44ae-8aeb-46a266eced65",
   "metadata": {},
   "outputs": [],
   "source": [
    "# Make a request to the ESPN API\n",
    "matchup_response = requests.get(url + '?view=mMatchup&view=mMatchupScore',\n",
    "                     params={'scoringPeriodId': week, 'matchupPeriodId': week},\n",
    "                     cookies={\"SWID\": swid, \"espn_s2\": espn_s2})\n",
    "\n",
    "\n",
    "\n",
    "# Transform response into a JSON string\n",
    "matchup_json = matchup_response.json()"
   ]
  },
  {
   "cell_type": "code",
   "execution_count": 45,
   "id": "7c706bd9-b9a9-40d3-8563-429cbd40632e",
   "metadata": {},
   "outputs": [],
   "source": [
    "# Initialize empty list for player scores, names, roster slot, fantasy team\n",
    "player_name = []\n",
    "player_score_act = []\n",
    "player_score_proj = []\n",
    "player_roster_slot = []\n",
    "player_fantasy_team = []\n",
    "\n",
    "\n",
    "# Loop through each team\n",
    "for team in range(0, league_size):\n",
    "    # Loop through each roster slot in each team\n",
    "    for slot in range(0, 16):\n",
    "        \n",
    "        # Append player name, player fantasy team, and player ro\n",
    "        player_name.append(matchup_json['teams'][team]['roster']['entries'][slot]['playerPoolEntry']['player']['fullName'])\n",
    "        player_fantasy_team.append(matchup_json['teams'][team]['id'])\n",
    "        player_roster_slot.append(matchup_json['teams'][team]['roster']['entries'][slot]['lineupSlotId'])\n",
    "            \n",
    "        # Loop through each statistic set for each roster slot for each team\n",
    "        # to get projected and actual scores\n",
    "        for stat in matchup_json['teams'][team]['roster']['entries'][slot]['playerPoolEntry']['player']['stats']:\n",
    "            if stat['scoringPeriodId'] != week:\n",
    "                continue\n",
    "            if stat['statSourceId'] == 0:\n",
    "                act = stat['appliedTotal']\n",
    "            elif stat['statSourceId'] == 1:\n",
    "                proj = stat['appliedTotal']\n",
    "            else:\n",
    "                print('Error')\n",
    "\n",
    "        player_score_act.append(act)\n",
    "        player_score_proj.append(proj)"
   ]
  },
  {
   "cell_type": "code",
   "execution_count": 46,
   "id": "41314a8f-b2ff-4e7b-8fa0-106a82165d71",
   "metadata": {},
   "outputs": [],
   "source": [
    "# Put the lists into a dictionary\n",
    "player_dict = {\n",
    "    'PlayerName' : player_name,\n",
    "    'PlayerScoreActual' : player_score_act,\n",
    "    'PlayerScoreProjected': player_score_proj,\n",
    "    'PlayerRosterSlot' : player_roster_slot,\n",
    "    'PlayerFantasyTeam' : player_fantasy_team\n",
    "}\n",
    "\n",
    "df = pd.DataFrame(player_dict)"
   ]
  },
  {
   "cell_type": "code",
   "execution_count": 47,
   "id": "0f9468d2-d55c-450b-acca-436c0d6c88b9",
   "metadata": {},
   "outputs": [
    {
     "data": {
      "text/plain": [
       "\"\\nTo do: wrap this shit in functions so it's easily reusable and you can loop through multiple years\\n\\nFuture charts / analysis = maximum projected points versus actual\\n\\n\""
      ]
     },
     "execution_count": 47,
     "metadata": {},
     "output_type": "execute_result"
    }
   ],
   "source": [
    "'''\n",
    "To do: wrap this shit in functions so it's easily reusable and you can loop through multiple years\n",
    "\n",
    "Future charts / analysis = maximum projected points versus actual\n",
    "\n",
    "'''"
   ]
  },
  {
   "cell_type": "code",
   "execution_count": 39,
   "id": "c8288cf5-e610-433e-8ed9-1108131a204c",
   "metadata": {},
   "outputs": [],
   "source": [
    "df.to_csv('Week1')"
   ]
  },
  {
   "cell_type": "code",
   "execution_count": 49,
   "id": "36a99e28-de82-4524-a03d-cdcec594d166",
   "metadata": {},
   "outputs": [],
   "source": [
    "df_week1 = pd.read_csv(\"Week1\")"
   ]
  },
  {
   "cell_type": "code",
   "execution_count": 51,
   "id": "82e7bf1c-3bad-4f0a-ae62-7517c2cd9c09",
   "metadata": {},
   "outputs": [],
   "source": [
    "df_week2 = df"
   ]
  },
  {
   "cell_type": "code",
   "execution_count": 54,
   "id": "0a3f8e9b-336a-46fa-acf4-27860914a881",
   "metadata": {},
   "outputs": [],
   "source": [
    "df_total = pd.concat([df_week1, df_week2], axis=0)"
   ]
  },
  {
   "cell_type": "code",
   "execution_count": 58,
   "id": "6f774af1-5b0a-47a9-925e-e899234f77d3",
   "metadata": {},
   "outputs": [
    {
     "data": {
      "text/html": [
       "<div>\n",
       "<style scoped>\n",
       "    .dataframe tbody tr th:only-of-type {\n",
       "        vertical-align: middle;\n",
       "    }\n",
       "\n",
       "    .dataframe tbody tr th {\n",
       "        vertical-align: top;\n",
       "    }\n",
       "\n",
       "    .dataframe thead th {\n",
       "        text-align: right;\n",
       "    }\n",
       "</style>\n",
       "<table border=\"1\" class=\"dataframe\">\n",
       "  <thead>\n",
       "    <tr style=\"text-align: right;\">\n",
       "      <th></th>\n",
       "      <th>Unnamed: 0</th>\n",
       "      <th>PlayerName</th>\n",
       "      <th>PlayerScoreActual</th>\n",
       "      <th>PlayerScoreProjected</th>\n",
       "      <th>PlayerRosterSlot</th>\n",
       "      <th>PlayerFantasyTeam</th>\n",
       "    </tr>\n",
       "  </thead>\n",
       "  <tbody>\n",
       "    <tr>\n",
       "      <th>0</th>\n",
       "      <td>0.0</td>\n",
       "      <td>Najee Harris</td>\n",
       "      <td>10.60</td>\n",
       "      <td>16.466495</td>\n",
       "      <td>2</td>\n",
       "      <td>1</td>\n",
       "    </tr>\n",
       "    <tr>\n",
       "      <th>1</th>\n",
       "      <td>1.0</td>\n",
       "      <td>Dalvin Cook</td>\n",
       "      <td>13.80</td>\n",
       "      <td>16.794135</td>\n",
       "      <td>2</td>\n",
       "      <td>1</td>\n",
       "    </tr>\n",
       "    <tr>\n",
       "      <th>2</th>\n",
       "      <td>2.0</td>\n",
       "      <td>A.J. Brown</td>\n",
       "      <td>25.50</td>\n",
       "      <td>14.401352</td>\n",
       "      <td>4</td>\n",
       "      <td>1</td>\n",
       "    </tr>\n",
       "    <tr>\n",
       "      <th>3</th>\n",
       "      <td>3.0</td>\n",
       "      <td>Diontae Johnson</td>\n",
       "      <td>12.50</td>\n",
       "      <td>14.686890</td>\n",
       "      <td>4</td>\n",
       "      <td>1</td>\n",
       "    </tr>\n",
       "    <tr>\n",
       "      <th>4</th>\n",
       "      <td>4.0</td>\n",
       "      <td>DK Metcalf</td>\n",
       "      <td>8.60</td>\n",
       "      <td>13.102843</td>\n",
       "      <td>23</td>\n",
       "      <td>1</td>\n",
       "    </tr>\n",
       "    <tr>\n",
       "      <th>...</th>\n",
       "      <td>...</td>\n",
       "      <td>...</td>\n",
       "      <td>...</td>\n",
       "      <td>...</td>\n",
       "      <td>...</td>\n",
       "      <td>...</td>\n",
       "    </tr>\n",
       "    <tr>\n",
       "      <th>155</th>\n",
       "      <td>NaN</td>\n",
       "      <td>Mike Gesicki</td>\n",
       "      <td>14.10</td>\n",
       "      <td>5.400252</td>\n",
       "      <td>20</td>\n",
       "      <td>14</td>\n",
       "    </tr>\n",
       "    <tr>\n",
       "      <th>156</th>\n",
       "      <td>NaN</td>\n",
       "      <td>Pat Freiermuth</td>\n",
       "      <td>12.20</td>\n",
       "      <td>9.759137</td>\n",
       "      <td>6</td>\n",
       "      <td>14</td>\n",
       "    </tr>\n",
       "    <tr>\n",
       "      <th>157</th>\n",
       "      <td>NaN</td>\n",
       "      <td>Trey Lance</td>\n",
       "      <td>2.82</td>\n",
       "      <td>20.267022</td>\n",
       "      <td>20</td>\n",
       "      <td>14</td>\n",
       "    </tr>\n",
       "    <tr>\n",
       "      <th>158</th>\n",
       "      <td>NaN</td>\n",
       "      <td>Cowboys D/ST</td>\n",
       "      <td>9.00</td>\n",
       "      <td>9.133034</td>\n",
       "      <td>16</td>\n",
       "      <td>14</td>\n",
       "    </tr>\n",
       "    <tr>\n",
       "      <th>159</th>\n",
       "      <td>NaN</td>\n",
       "      <td>Matt Prater</td>\n",
       "      <td>1.00</td>\n",
       "      <td>7.725333</td>\n",
       "      <td>17</td>\n",
       "      <td>14</td>\n",
       "    </tr>\n",
       "  </tbody>\n",
       "</table>\n",
       "<p>320 rows × 6 columns</p>\n",
       "</div>"
      ],
      "text/plain": [
       "     Unnamed: 0       PlayerName  PlayerScoreActual  PlayerScoreProjected  \\\n",
       "0           0.0     Najee Harris              10.60             16.466495   \n",
       "1           1.0      Dalvin Cook              13.80             16.794135   \n",
       "2           2.0       A.J. Brown              25.50             14.401352   \n",
       "3           3.0  Diontae Johnson              12.50             14.686890   \n",
       "4           4.0       DK Metcalf               8.60             13.102843   \n",
       "..          ...              ...                ...                   ...   \n",
       "155         NaN     Mike Gesicki              14.10              5.400252   \n",
       "156         NaN   Pat Freiermuth              12.20              9.759137   \n",
       "157         NaN       Trey Lance               2.82             20.267022   \n",
       "158         NaN     Cowboys D/ST               9.00              9.133034   \n",
       "159         NaN      Matt Prater               1.00              7.725333   \n",
       "\n",
       "     PlayerRosterSlot  PlayerFantasyTeam  \n",
       "0                   2                  1  \n",
       "1                   2                  1  \n",
       "2                   4                  1  \n",
       "3                   4                  1  \n",
       "4                  23                  1  \n",
       "..                ...                ...  \n",
       "155                20                 14  \n",
       "156                 6                 14  \n",
       "157                20                 14  \n",
       "158                16                 14  \n",
       "159                17                 14  \n",
       "\n",
       "[320 rows x 6 columns]"
      ]
     },
     "execution_count": 58,
     "metadata": {},
     "output_type": "execute_result"
    }
   ],
   "source": [
    "df_total"
   ]
  },
  {
   "cell_type": "code",
   "execution_count": 59,
   "id": "ea9cb744-6a26-4d6a-869a-ae5ce681f022",
   "metadata": {},
   "outputs": [],
   "source": [
    "team_url = f\"https://fantasy.espn.com/apis/v3/games/ffl/seasons/{year}/segments/0/leagues/{league_id}\"\n",
    "\n",
    "team_response = requests.get(url, \n",
    "                                params={\"leagueId\" : league_id,\n",
    "                                       \"seasonId\" : year,\n",
    "                                       \"matchupPeriodId\" : week,\n",
    "                                       \"view\": \"mTeam\"},\n",
    "                               cookies={\"swid\" : swid,\n",
    "                                       \"espn_s2\" : espn_s2},)"
   ]
  },
  {
   "cell_type": "code",
   "execution_count": 60,
   "id": "e6e592c5-0c5f-454b-8d28-1d4f82a1403c",
   "metadata": {},
   "outputs": [],
   "source": [
    "team_json = team_response.json()"
   ]
  },
  {
   "cell_type": "code",
   "execution_count": 63,
   "id": "578a365c-4317-4113-98e1-135b92507112",
   "metadata": {},
   "outputs": [],
   "source": [
    "team_df = pd.json_normalize(team_json['teams'])\n",
    "\n",
    "team_column_names = {\n",
    "    'id':'id',\n",
    "    'location':'Name1',\n",
    "    'nickname':'Name2'\n",
    "}\n",
    "\n",
    "team_df = team_df.reindex(columns=team_column_names).rename(columns=team_column_names)"
   ]
  },
  {
   "cell_type": "code",
   "execution_count": 64,
   "id": "b7f68822-7e84-46cf-84d0-fb9b31e5d23a",
   "metadata": {},
   "outputs": [],
   "source": [
    "# Concatenate the two name columns\n",
    "team_df['Name'] = team_df['Name1'] + ' ' + team_df['Name2']\n",
    "\n",
    "# Drop all columns except id and Name\n",
    "team_df = team_df.filter(['id', 'Name'])"
   ]
  },
  {
   "cell_type": "code",
   "execution_count": 66,
   "id": "4dc5c8de-f86a-4a4d-b29e-2de3f791635d",
   "metadata": {},
   "outputs": [],
   "source": [
    "# (1) Rename Team1 column to id\n",
    "df_total = df_total.rename(columns={\"PlayerFantasyTeam\":\"id\"})\n",
    "\n",
    "# (1) Merge DataFrames to get team names instead of ids and rename Name column to Name1\n",
    "df_total = df_total.merge(team_df, on=['id'], how='left')\n",
    "df_total = df_total.rename(columns={'id':'Name'})\n",
    "\n"
   ]
  },
  {
   "cell_type": "code",
   "execution_count": 68,
   "id": "6077c31f-801f-4ab5-8593-19814e873fb0",
   "metadata": {},
   "outputs": [],
   "source": [
    "df_total = df_total[['PlayerName', 'PlayerScoreActual', 'PlayerRosterSlot', 'Name_x']]"
   ]
  },
  {
   "cell_type": "code",
   "execution_count": 92,
   "id": "3a4c5bd3-28f2-4dda-b77b-c441d7999dec",
   "metadata": {},
   "outputs": [],
   "source": [
    "df_bench = df_total[df_total['PlayerRosterSlot'] == 20]"
   ]
  },
  {
   "cell_type": "code",
   "execution_count": 93,
   "id": "e9855dd3-c213-4417-a031-0380f41eb0b7",
   "metadata": {},
   "outputs": [
    {
     "data": {
      "text/html": [
       "<div>\n",
       "<style scoped>\n",
       "    .dataframe tbody tr th:only-of-type {\n",
       "        vertical-align: middle;\n",
       "    }\n",
       "\n",
       "    .dataframe tbody tr th {\n",
       "        vertical-align: top;\n",
       "    }\n",
       "\n",
       "    .dataframe thead th {\n",
       "        text-align: right;\n",
       "    }\n",
       "</style>\n",
       "<table border=\"1\" class=\"dataframe\">\n",
       "  <thead>\n",
       "    <tr style=\"text-align: right;\">\n",
       "      <th></th>\n",
       "      <th>PlayerScoreActual</th>\n",
       "      <th>PlayerRosterSlot</th>\n",
       "      <th>Name_x</th>\n",
       "    </tr>\n",
       "  </thead>\n",
       "  <tbody>\n",
       "    <tr>\n",
       "      <th>5</th>\n",
       "      <td>1.80</td>\n",
       "      <td>20</td>\n",
       "      <td>Good Christian Men</td>\n",
       "    </tr>\n",
       "    <tr>\n",
       "      <th>8</th>\n",
       "      <td>20.10</td>\n",
       "      <td>20</td>\n",
       "      <td>Good Christian Men</td>\n",
       "    </tr>\n",
       "    <tr>\n",
       "      <th>9</th>\n",
       "      <td>17.70</td>\n",
       "      <td>20</td>\n",
       "      <td>Good Christian Men</td>\n",
       "    </tr>\n",
       "    <tr>\n",
       "      <th>10</th>\n",
       "      <td>19.90</td>\n",
       "      <td>20</td>\n",
       "      <td>Good Christian Men</td>\n",
       "    </tr>\n",
       "    <tr>\n",
       "      <th>12</th>\n",
       "      <td>7.20</td>\n",
       "      <td>20</td>\n",
       "      <td>Good Christian Men</td>\n",
       "    </tr>\n",
       "    <tr>\n",
       "      <th>...</th>\n",
       "      <td>...</td>\n",
       "      <td>...</td>\n",
       "      <td>...</td>\n",
       "    </tr>\n",
       "    <tr>\n",
       "      <th>312</th>\n",
       "      <td>20.80</td>\n",
       "      <td>20</td>\n",
       "      <td>watson stiky thighs</td>\n",
       "    </tr>\n",
       "    <tr>\n",
       "      <th>313</th>\n",
       "      <td>11.48</td>\n",
       "      <td>20</td>\n",
       "      <td>watson stiky thighs</td>\n",
       "    </tr>\n",
       "    <tr>\n",
       "      <th>314</th>\n",
       "      <td>6.10</td>\n",
       "      <td>20</td>\n",
       "      <td>watson stiky thighs</td>\n",
       "    </tr>\n",
       "    <tr>\n",
       "      <th>315</th>\n",
       "      <td>14.10</td>\n",
       "      <td>20</td>\n",
       "      <td>watson stiky thighs</td>\n",
       "    </tr>\n",
       "    <tr>\n",
       "      <th>317</th>\n",
       "      <td>2.82</td>\n",
       "      <td>20</td>\n",
       "      <td>watson stiky thighs</td>\n",
       "    </tr>\n",
       "  </tbody>\n",
       "</table>\n",
       "<p>139 rows × 3 columns</p>\n",
       "</div>"
      ],
      "text/plain": [
       "     PlayerScoreActual  PlayerRosterSlot                Name_x\n",
       "5                 1.80                20    Good Christian Men\n",
       "8                20.10                20    Good Christian Men\n",
       "9                17.70                20    Good Christian Men\n",
       "10               19.90                20    Good Christian Men\n",
       "12                7.20                20    Good Christian Men\n",
       "..                 ...               ...                   ...\n",
       "312              20.80                20  watson stiky thighs \n",
       "313              11.48                20  watson stiky thighs \n",
       "314               6.10                20  watson stiky thighs \n",
       "315              14.10                20  watson stiky thighs \n",
       "317               2.82                20  watson stiky thighs \n",
       "\n",
       "[139 rows x 3 columns]"
      ]
     },
     "execution_count": 93,
     "metadata": {},
     "output_type": "execute_result"
    }
   ],
   "source": [
    "df_bench.drop(['PlayerName'], axis=1)"
   ]
  },
  {
   "cell_type": "code",
   "execution_count": 94,
   "id": "ebcee2cf-dd9a-4227-b885-648016ce96c8",
   "metadata": {},
   "outputs": [],
   "source": [
    "df_bench = df_bench.groupby('Name_x').sum()"
   ]
  },
  {
   "cell_type": "code",
   "execution_count": 98,
   "id": "4c3185d3-42a5-40d8-b796-ad920817517c",
   "metadata": {},
   "outputs": [],
   "source": [
    "df_bench = df_bench.sort_values(by='PlayerScoreActual', ascending=False)"
   ]
  },
  {
   "cell_type": "code",
   "execution_count": 125,
   "id": "806f9cce-5b43-4429-9175-d6ef80a8ac74",
   "metadata": {},
   "outputs": [
    {
     "data": {
      "image/png": "[encoded data removed]",
      "text/plain": [
       "<Figure size 2520x1224 with 1 Axes>"
      ]
     },
     "metadata": {
      "needs_background": "light"
     },
     "output_type": "display_data"
    }
   ],
   "source": [
    "plt.rcParams[\"figure.figsize\"] = [35, 17];\n",
    "\n",
    "plt.title(\"Total Points Left on the Bench by Team\", fontdict={'fontsize':40});\n",
    "\n",
    "plt.bar(df_bench.index, df_bench['PlayerScoreActual']);\n",
    "\n",
    "plt.xticks(fontsize=30, rotation=90);"
   ]
  },
  {
   "cell_type": "code",
   "execution_count": null,
   "id": "79ad1683-02c1-48b3-823b-aaf1a0b70a0d",
   "metadata": {},
   "outputs": [],
   "source": []
  }
 ],
 "metadata": {
  "kernelspec": {
   "display_name": "Python 3 (ipykernel)",
   "language": "python",
   "name": "python3"
  },
  "language_info": {
   "codemirror_mode": {
    "name": "ipython",
    "version": 3
   },
   "file_extension": ".py",
   "mimetype": "text/x-python",
   "name": "python",
   "nbconvert_exporter": "python",
   "pygments_lexer": "ipython3",
   "version": "3.9.7"
  }
 },
 "nbformat": 4,
 "nbformat_minor": 5
}
